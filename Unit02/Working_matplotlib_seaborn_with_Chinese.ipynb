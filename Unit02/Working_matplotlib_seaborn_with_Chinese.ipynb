{
 "cells": [
  {
   "cell_type": "code",
   "execution_count": 1,
   "metadata": {},
   "outputs": [],
   "source": [
    "import warnings\n",
    "warnings.filterwarnings('ignore')\n",
    "import matplotlib.pyplot as plt\n",
    "from matplotlib.font_manager import FontProperties"
   ]
  },
  {
   "cell_type": "markdown",
   "metadata": {},
   "source": [
    "##  尋找matplotlib中可用字體\n",
    "註：需知道中文字體的英文名稱"
   ]
  },
  {
   "cell_type": "code",
   "execution_count": null,
   "metadata": {},
   "outputs": [],
   "source": [
    "import matplotlib\n",
    "[f.name for f in matplotlib.font_manager.fontManager.ttflist]"
   ]
  },
  {
   "cell_type": "markdown",
   "metadata": {
    "collapsed": true
   },
   "source": [
    "## 測試中文字體Notes:\n",
    "### Mac可用字體：SimHei\n",
    "### Windows 7可用字體：Microsoft YaHei\n",
    "### Windows 10 可用字體：Microsoft JhengHei、DFKai-SB"
   ]
  },
  {
   "cell_type": "markdown",
   "metadata": {},
   "source": [
    "# 方法一：更改 plt.rcParams['font.sans-serif'] 設定\n",
    "## Matplotlib example"
   ]
  },
  {
   "cell_type": "code",
   "execution_count": 4,
   "metadata": {},
   "outputs": [
    {
     "data": {
      "image/png": "[encoded data removed]",
      "text/plain": [
       "<Figure size 432x288 with 1 Axes>"
      ]
     },
     "metadata": {
      "needs_background": "light"
     },
     "output_type": "display_data"
    }
   ],
   "source": [
    "import matplotlib.pyplot as plt\n",
    "from matplotlib.font_manager import FontProperties\n",
    "plt.rcParams['font.sans-serif'] = ['Microsoft JhengHei'] \n",
    "\n",
    "plt.plot((1,2,3),(4,3,-1))\n",
    "plt.title(\"聲量圖\")\n",
    "plt.ylabel(\"文章數量\")\n",
    "plt.xlabel(\"品牌名稱\") \n",
    "plt.show()"
   ]
  },
  {
   "cell_type": "markdown",
   "metadata": {},
   "source": [
    "## Seaborn example"
   ]
  },
  {
   "cell_type": "code",
   "execution_count": null,
   "metadata": {},
   "outputs": [],
   "source": [
    "#from matplotlib.font_manager import FontProperties\n",
    "import seaborn as sns\n",
    "sns.set(font=['sans-serif'])\n",
    "sns.set_style(\"whitegrid\",{\"font.sans-serif\":['Microsoft JhengHei']})\n",
    "cities_counter = [('好棒', 285), ('給我', 225), ('不要', 163), ('細柔', 136), ('吃飯', 130), ('小小', 124), ('深圳', 88), ('温州', 67), ('小知', 66), ('大之', 45)]\n",
    "sns.set_color_codes(\"pastel\")\n",
    "sns.barplot(x=[k for k, _ in cities_counter[:10]], y=[v for _, v in cities_counter[:10]])"
   ]
  },
  {
   "cell_type": "markdown",
   "metadata": {},
   "source": [
    "# 方法二：更改 plt.rcParams['font.family'] 設定"
   ]
  },
  {
   "cell_type": "code",
   "execution_count": null,
   "metadata": {},
   "outputs": [],
   "source": [
    "import matplotlib.pyplot as plt\n",
    "plt.style.use('ggplot')\n",
    "\n",
    "fig = plt.figure(figsize=(6,4))\n",
    "x = [1,2,3,4,5]\n",
    "y = [123,432,823,192,12]\n",
    "\n",
    "plt.rcParams['font.family']='DFKai-SB' #使用中文字體（黑體）\n",
    "\n",
    "plt.bar(x,y,align='center')\n",
    "plt.title('中文標題') #標題名稱\n",
    "plt.xlabel('X軸') #X軸名稱\n",
    "plt.ylabel('Y軸') #Y軸名稱\n",
    "plt.xticks(x, ['刻度A','刻度B','刻度C','刻度D','刻度E']) #X軸刻度名稱\n",
    "\n",
    "plt.show()"
   ]
  },
  {
   "cell_type": "markdown",
   "metadata": {},
   "source": [
    "# 方法三：每次作圖使用特定字體"
   ]
  },
  {
   "cell_type": "code",
   "execution_count": null,
   "metadata": {},
   "outputs": [],
   "source": [
    "font1 = {'fontname':'SetoFont'}\n",
    "font2 = {'fontname':'SimSun'}\n",
    "font3 = {'fontname':'SimHei'}\n",
    "\n",
    "plt.bar(x,y,align='center')\n",
    "plt.title('瀨戶字體標題',**font1, fontsize=18) #標題名稱\n",
    "plt.xlabel('新宋字體X軸',**font2, fontsize=18) #X軸名稱\n",
    "plt.ylabel('黑體Y軸',**font3, fontsize=18) #Y軸名稱\n",
    "plt.show()\n",
    "#比較不建議 "
   ]
  },
  {
   "cell_type": "markdown",
   "metadata": {},
   "source": [
    "# 方法四、自訂字體型式\n",
    "### 下載`.ttf`字體檔，直接指定字體路徑"
   ]
  },
  {
   "cell_type": "code",
   "execution_count": 5,
   "metadata": {},
   "outputs": [
    {
     "data": {
      "image/png": "[encoded data removed]",
      "text/plain": [
       "<Figure size 432x288 with 1 Axes>"
      ]
     },
     "metadata": {
      "needs_background": "light"
     },
     "output_type": "display_data"
    }
   ],
   "source": [
    "from matplotlib.font_manager import FontProperties\n",
    "font = FontProperties(fname='data/微軟正黑體.ttf')\n",
    "\n",
    "plt.bar((1,2,3),(4,3,-1),align='center')\n",
    "plt.title('微軟正黑體標題',fontproperties=font, fontsize=18) #標題名稱\n",
    "plt.xlabel('微軟正黑體X軸',fontproperties=font, fontsize=18) #X軸名稱\n",
    "plt.ylabel('微軟正黑體Y軸',fontproperties=font, fontsize=18) #Y軸名稱\n",
    "plt.show()"
   ]
  },
  {
   "cell_type": "code",
   "execution_count": null,
   "metadata": {},
   "outputs": [],
   "source": []
  }
 ],
 "metadata": {
  "anaconda-cloud": {},
  "kernelspec": {
   "display_name": "Python 3",
   "language": "python",
   "name": "python3"
  },
  "language_info": {
   "codemirror_mode": {
    "name": "ipython",
    "version": 3
   },
   "file_extension": ".py",
   "mimetype": "text/x-python",
   "name": "python",
   "nbconvert_exporter": "python",
   "pygments_lexer": "ipython3",
   "version": "3.7.4"
  }
 },
 "nbformat": 4,
 "nbformat_minor": 1
}
